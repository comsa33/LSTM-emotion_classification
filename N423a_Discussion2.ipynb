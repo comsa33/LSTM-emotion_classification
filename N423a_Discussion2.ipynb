{
 "cells": [
  {
   "cell_type": "code",
   "execution_count": 1,
   "id": "f69ac47f-ee1b-4f09-9c35-70d701494183",
   "metadata": {},
   "outputs": [],
   "source": [
    "import pandas as pd\n",
    "import matplotlib.pyplot as plt\n",
    "import seaborn as sns\n",
    "import re\n",
    "import numpy as np\n",
    "import konlpy\n",
    "import mecab"
   ]
  },
  {
   "cell_type": "code",
   "execution_count": 2,
   "id": "0d8b8d5d-1074-40c9-9b36-549245376ed3",
   "metadata": {},
   "outputs": [
    {
     "data": {
      "text/plain": [
       "(74856, 14)"
      ]
     },
     "execution_count": 2,
     "metadata": {},
     "output_type": "execute_result"
    }
   ],
   "source": [
    "file_path = '감성대화말뭉치(원시데이터)_Training.xlsx'\n",
    "df = pd.read_excel(file_path)\n",
    "df.shape"
   ]
  },
  {
   "cell_type": "code",
   "execution_count": 3,
   "id": "b5ef8869-2fd8-424b-a9c6-571af8de095b",
   "metadata": {},
   "outputs": [
    {
     "data": {
      "text/html": [
       "<div>\n",
       "<style scoped>\n",
       "    .dataframe tbody tr th:only-of-type {\n",
       "        vertical-align: middle;\n",
       "    }\n",
       "\n",
       "    .dataframe tbody tr th {\n",
       "        vertical-align: top;\n",
       "    }\n",
       "\n",
       "    .dataframe thead th {\n",
       "        text-align: right;\n",
       "    }\n",
       "</style>\n",
       "<table border=\"1\" class=\"dataframe\">\n",
       "  <thead>\n",
       "    <tr style=\"text-align: right;\">\n",
       "      <th></th>\n",
       "      <th>번호</th>\n",
       "      <th>value</th>\n",
       "      <th>연령</th>\n",
       "      <th>성별</th>\n",
       "      <th>상황키워드</th>\n",
       "      <th>신체질환</th>\n",
       "      <th>감정_대분류</th>\n",
       "      <th>감정_소분류</th>\n",
       "      <th>사람문장1</th>\n",
       "      <th>시스템응답1</th>\n",
       "      <th>사람문장2</th>\n",
       "      <th>시스템응답2</th>\n",
       "      <th>사람문장3</th>\n",
       "      <th>시스템응답3</th>\n",
       "    </tr>\n",
       "  </thead>\n",
       "  <tbody>\n",
       "    <tr>\n",
       "      <th>0</th>\n",
       "      <td>24070</td>\n",
       "      <td>1</td>\n",
       "      <td>청년</td>\n",
       "      <td>여성</td>\n",
       "      <td>진로, 취업, 직장</td>\n",
       "      <td>해당없음</td>\n",
       "      <td>기쁨</td>\n",
       "      <td>신이 난</td>\n",
       "      <td>지금 난 기분이 너무 좋아.</td>\n",
       "      <td>굉장히 즐거우신 것 같은데요? 좋은 일이 있나요?</td>\n",
       "      <td>오늘부터 연휴가 시작됐거든. 내일 회사 안 간다.</td>\n",
       "      <td>그거 정말 기분 좋을 만하네요. 무엇을 할 예정인가요?</td>\n",
       "      <td>그냥 집에서 뒹굴뒹굴하고 넷플릭스 보고 놀 거야.</td>\n",
       "      <td>집에서 노는 것이 최고죠. 생각만 해도 행복하겠어요.</td>\n",
       "    </tr>\n",
       "    <tr>\n",
       "      <th>1</th>\n",
       "      <td>27879</td>\n",
       "      <td>1</td>\n",
       "      <td>청년</td>\n",
       "      <td>여성</td>\n",
       "      <td>연애, 결혼, 출산</td>\n",
       "      <td>해당없음</td>\n",
       "      <td>기쁨</td>\n",
       "      <td>신이 난</td>\n",
       "      <td>나도 조카가 생겨! 너무 기뻐.</td>\n",
       "      <td>정말 좋은 소식이네요. 축하할 특별한 계획이 있을까요?</td>\n",
       "      <td>응. 언니에게 꽃다발을 선물할 거야. 예쁜 딸이면 좋을 것 같아서.</td>\n",
       "      <td>언니에게 꽃을 선물하려고 하시는군요.</td>\n",
       "      <td>NaN</td>\n",
       "      <td>NaN</td>\n",
       "    </tr>\n",
       "    <tr>\n",
       "      <th>2</th>\n",
       "      <td>51471</td>\n",
       "      <td>1</td>\n",
       "      <td>중년</td>\n",
       "      <td>여성</td>\n",
       "      <td>직장, 업무 스트레스</td>\n",
       "      <td>해당없음</td>\n",
       "      <td>불안</td>\n",
       "      <td>불안</td>\n",
       "      <td>거래처와의 다음 계약이 무산될까봐 불안해.</td>\n",
       "      <td>많이 걱정되시겠어요. 계약이 무산될 것 같다고 생각하는 이유가 있으신가요?</td>\n",
       "      <td>딱히 이유는 없어. 그냥 나 혼자 불안한 상태야.</td>\n",
       "      <td>계약을 성공적으로 마무리하실 수 있기를 기원해요.</td>\n",
       "      <td>NaN</td>\n",
       "      <td>NaN</td>\n",
       "    </tr>\n",
       "    <tr>\n",
       "      <th>3</th>\n",
       "      <td>7140</td>\n",
       "      <td>1</td>\n",
       "      <td>노년</td>\n",
       "      <td>남성</td>\n",
       "      <td>대인관계</td>\n",
       "      <td>만성질환 유</td>\n",
       "      <td>슬픔</td>\n",
       "      <td>염세적인</td>\n",
       "      <td>당뇨로 고생 중인데 아내가 이혼하자더군. 아내가 날 버리면 병은 더 악화될 텐데 세...</td>\n",
       "      <td>몸이 아픈데 아내가 이혼하자고 하니 혼자 있는 것 같은 기분을 느끼셨군요.</td>\n",
       "      <td>젊은 시절에 가정에 소홀했지. 그래도 그렇지 이혼을 하자니 너무 허망해.</td>\n",
       "      <td>지금의 기분에서 벗어나기 위해 무엇을 하면 좋을까요?</td>\n",
       "      <td>아내에게 졸혼은 어떤지 대화를 나누어 봐야겠어. 졸혼을 한다면 가끔씩이라도 도움을 ...</td>\n",
       "      <td>아내와의 대화로 기분이 나아졌으면 좋겠어요.</td>\n",
       "    </tr>\n",
       "    <tr>\n",
       "      <th>4</th>\n",
       "      <td>39663</td>\n",
       "      <td>1</td>\n",
       "      <td>노년</td>\n",
       "      <td>남성</td>\n",
       "      <td>재정</td>\n",
       "      <td>만성질환 유</td>\n",
       "      <td>슬픔</td>\n",
       "      <td>마비된</td>\n",
       "      <td>노년에 재정적으로 이루어 놓은게 없어서 걱정이야.</td>\n",
       "      <td>나이들어 재정적으로 어려워서 걱정되시는군요.</td>\n",
       "      <td>정말이지 막막해.</td>\n",
       "      <td>막막한 현실이지만 분명 해결책을 찾을 수 있을거예요.</td>\n",
       "      <td>NaN</td>\n",
       "      <td>NaN</td>\n",
       "    </tr>\n",
       "  </tbody>\n",
       "</table>\n",
       "</div>"
      ],
      "text/plain": [
       "      번호  value  연령  성별        상황키워드    신체질환 감정_대분류 감정_소분류  \\\n",
       "0  24070      1  청년  여성   진로, 취업, 직장    해당없음     기쁨   신이 난   \n",
       "1  27879      1  청년  여성   연애, 결혼, 출산    해당없음     기쁨   신이 난   \n",
       "2  51471      1  중년  여성  직장, 업무 스트레스    해당없음     불안     불안   \n",
       "3   7140      1  노년  남성         대인관계  만성질환 유     슬픔   염세적인   \n",
       "4  39663      1  노년  남성           재정  만성질환 유     슬픔    마비된   \n",
       "\n",
       "                                               사람문장1  \\\n",
       "0                                    지금 난 기분이 너무 좋아.   \n",
       "1                                  나도 조카가 생겨! 너무 기뻐.   \n",
       "2                            거래처와의 다음 계약이 무산될까봐 불안해.   \n",
       "3  당뇨로 고생 중인데 아내가 이혼하자더군. 아내가 날 버리면 병은 더 악화될 텐데 세...   \n",
       "4                        노년에 재정적으로 이루어 놓은게 없어서 걱정이야.   \n",
       "\n",
       "                                      시스템응답1  \\\n",
       "0                굉장히 즐거우신 것 같은데요? 좋은 일이 있나요?   \n",
       "1             정말 좋은 소식이네요. 축하할 특별한 계획이 있을까요?   \n",
       "2  많이 걱정되시겠어요. 계약이 무산될 것 같다고 생각하는 이유가 있으신가요?   \n",
       "3  몸이 아픈데 아내가 이혼하자고 하니 혼자 있는 것 같은 기분을 느끼셨군요.   \n",
       "4                   나이들어 재정적으로 어려워서 걱정되시는군요.   \n",
       "\n",
       "                                      사람문장2                          시스템응답2  \\\n",
       "0               오늘부터 연휴가 시작됐거든. 내일 회사 안 간다.  그거 정말 기분 좋을 만하네요. 무엇을 할 예정인가요?   \n",
       "1     응. 언니에게 꽃다발을 선물할 거야. 예쁜 딸이면 좋을 것 같아서.            언니에게 꽃을 선물하려고 하시는군요.   \n",
       "2               딱히 이유는 없어. 그냥 나 혼자 불안한 상태야.     계약을 성공적으로 마무리하실 수 있기를 기원해요.   \n",
       "3  젊은 시절에 가정에 소홀했지. 그래도 그렇지 이혼을 하자니 너무 허망해.   지금의 기분에서 벗어나기 위해 무엇을 하면 좋을까요?   \n",
       "4                                 정말이지 막막해.   막막한 현실이지만 분명 해결책을 찾을 수 있을거예요.   \n",
       "\n",
       "                                               사람문장3  \\\n",
       "0                        그냥 집에서 뒹굴뒹굴하고 넷플릭스 보고 놀 거야.   \n",
       "1                                                NaN   \n",
       "2                                                NaN   \n",
       "3  아내에게 졸혼은 어떤지 대화를 나누어 봐야겠어. 졸혼을 한다면 가끔씩이라도 도움을 ...   \n",
       "4                                                NaN   \n",
       "\n",
       "                          시스템응답3  \n",
       "0  집에서 노는 것이 최고죠. 생각만 해도 행복하겠어요.  \n",
       "1                            NaN  \n",
       "2                            NaN  \n",
       "3       아내와의 대화로 기분이 나아졌으면 좋겠어요.  \n",
       "4                            NaN  "
      ]
     },
     "execution_count": 3,
     "metadata": {},
     "output_type": "execute_result"
    }
   ],
   "source": [
    "df.head()"
   ]
  },
  {
   "cell_type": "code",
   "execution_count": 4,
   "id": "33172708-34d2-4465-b6fc-eb09d92c7c87",
   "metadata": {},
   "outputs": [
    {
     "data": {
      "text/plain": [
       "번호            0\n",
       "value         0\n",
       "연령            0\n",
       "성별            0\n",
       "상황키워드         0\n",
       "신체질환          0\n",
       "감정_대분류        0\n",
       "감정_소분류        0\n",
       "사람문장1         0\n",
       "시스템응답1        0\n",
       "사람문장2         0\n",
       "시스템응답2        1\n",
       "사람문장3     25196\n",
       "시스템응답3    25202\n",
       "dtype: int64"
      ]
     },
     "execution_count": 4,
     "metadata": {},
     "output_type": "execute_result"
    }
   ],
   "source": [
    "df.isna().sum()"
   ]
  },
  {
   "cell_type": "code",
   "execution_count": 5,
   "id": "eff3e0ad-9193-4385-ac58-b5010f17a956",
   "metadata": {},
   "outputs": [
    {
     "data": {
      "text/plain": [
       "(74856, 11)"
      ]
     },
     "execution_count": 5,
     "metadata": {},
     "output_type": "execute_result"
    }
   ],
   "source": [
    "df.drop(['사람문장2', '사람문장3','시스템응답3'], axis=1, inplace=True)\n",
    "df.shape"
   ]
  },
  {
   "cell_type": "code",
   "execution_count": 6,
   "id": "d6e54d14-2fe1-4acd-906d-2aa012aa1a84",
   "metadata": {},
   "outputs": [
    {
     "data": {
      "text/plain": [
       "(74855, 11)"
      ]
     },
     "execution_count": 6,
     "metadata": {},
     "output_type": "execute_result"
    }
   ],
   "source": [
    "df.dropna(axis=0, inplace=True)\n",
    "df.shape"
   ]
  },
  {
   "cell_type": "code",
   "execution_count": 7,
   "id": "8436a5e5-5ce6-40dc-9523-da7aee953817",
   "metadata": {},
   "outputs": [
    {
     "data": {
      "text/plain": [
       "0"
      ]
     },
     "execution_count": 7,
     "metadata": {},
     "output_type": "execute_result"
    }
   ],
   "source": [
    "df.duplicated().sum()"
   ]
  },
  {
   "cell_type": "code",
   "execution_count": 8,
   "id": "80cbbdd1-d85b-44fe-8796-23ddd50143a3",
   "metadata": {},
   "outputs": [
    {
     "data": {
      "text/plain": [
       "번호         int64\n",
       "value      int64\n",
       "연령        object\n",
       "성별        object\n",
       "상황키워드     object\n",
       "신체질환      object\n",
       "감정_대분류    object\n",
       "감정_소분류    object\n",
       "사람문장1     object\n",
       "시스템응답1    object\n",
       "시스템응답2    object\n",
       "dtype: object"
      ]
     },
     "execution_count": 8,
     "metadata": {},
     "output_type": "execute_result"
    }
   ],
   "source": [
    "df.dtypes"
   ]
  },
  {
   "cell_type": "code",
   "execution_count": 9,
   "id": "73882d21-66a1-4a44-84e1-7b2451022f85",
   "metadata": {},
   "outputs": [
    {
     "data": {
      "text/plain": [
       "1    74855\n",
       "Name: value, dtype: int64"
      ]
     },
     "execution_count": 9,
     "metadata": {},
     "output_type": "execute_result"
    }
   ],
   "source": [
    "df['value'].value_counts()"
   ]
  },
  {
   "cell_type": "code",
   "execution_count": 10,
   "id": "fa5079fe-3a33-4a12-a834-0ede12bc1e1d",
   "metadata": {},
   "outputs": [
    {
     "data": {
      "text/plain": [
       "(74855, 9)"
      ]
     },
     "execution_count": 10,
     "metadata": {},
     "output_type": "execute_result"
    }
   ],
   "source": [
    "df.drop(['번호', 'value'], axis=1, inplace=True)\n",
    "df.shape"
   ]
  },
  {
   "cell_type": "code",
   "execution_count": 11,
   "id": "e6d4e34f-029c-464b-8659-a4039eebf9f2",
   "metadata": {},
   "outputs": [
    {
     "data": {
      "text/plain": [
       "해당없음       56467\n",
       "만성질환 유      9246\n",
       "만성질환 무      9140\n",
       "만성질환 무         2\n",
       "Name: 신체질환, dtype: int64"
      ]
     },
     "execution_count": 11,
     "metadata": {},
     "output_type": "execute_result"
    }
   ],
   "source": [
    "df['신체질환'].value_counts()"
   ]
  },
  {
   "cell_type": "code",
   "execution_count": 12,
   "id": "b913804a-018e-4d16-993c-ecc9253e4b34",
   "metadata": {},
   "outputs": [],
   "source": [
    "df.columns = ['Age', 'Gender', 'Situation', 'Condition', 'Emotion1', 'Emotion2', 'Human1', 'Computer1', 'Computer2']"
   ]
  },
  {
   "cell_type": "code",
   "execution_count": 13,
   "id": "5f37d46a-74a5-4a52-8c2a-7c1a55b71491",
   "metadata": {},
   "outputs": [
    {
     "data": {
      "text/html": [
       "<div>\n",
       "<style scoped>\n",
       "    .dataframe tbody tr th:only-of-type {\n",
       "        vertical-align: middle;\n",
       "    }\n",
       "\n",
       "    .dataframe tbody tr th {\n",
       "        vertical-align: top;\n",
       "    }\n",
       "\n",
       "    .dataframe thead th {\n",
       "        text-align: right;\n",
       "    }\n",
       "</style>\n",
       "<table border=\"1\" class=\"dataframe\">\n",
       "  <thead>\n",
       "    <tr style=\"text-align: right;\">\n",
       "      <th></th>\n",
       "      <th>Age</th>\n",
       "      <th>Gender</th>\n",
       "      <th>Situation</th>\n",
       "      <th>Condition</th>\n",
       "      <th>Emotion1</th>\n",
       "      <th>Emotion2</th>\n",
       "      <th>Human1</th>\n",
       "      <th>Computer1</th>\n",
       "      <th>Computer2</th>\n",
       "    </tr>\n",
       "  </thead>\n",
       "  <tbody>\n",
       "    <tr>\n",
       "      <th>0</th>\n",
       "      <td>청년</td>\n",
       "      <td>여성</td>\n",
       "      <td>진로, 취업, 직장</td>\n",
       "      <td>해당없음</td>\n",
       "      <td>기쁨</td>\n",
       "      <td>신이 난</td>\n",
       "      <td>지금 난 기분이 너무 좋아.</td>\n",
       "      <td>굉장히 즐거우신 것 같은데요? 좋은 일이 있나요?</td>\n",
       "      <td>그거 정말 기분 좋을 만하네요. 무엇을 할 예정인가요?</td>\n",
       "    </tr>\n",
       "    <tr>\n",
       "      <th>1</th>\n",
       "      <td>청년</td>\n",
       "      <td>여성</td>\n",
       "      <td>연애, 결혼, 출산</td>\n",
       "      <td>해당없음</td>\n",
       "      <td>기쁨</td>\n",
       "      <td>신이 난</td>\n",
       "      <td>나도 조카가 생겨! 너무 기뻐.</td>\n",
       "      <td>정말 좋은 소식이네요. 축하할 특별한 계획이 있을까요?</td>\n",
       "      <td>언니에게 꽃을 선물하려고 하시는군요.</td>\n",
       "    </tr>\n",
       "    <tr>\n",
       "      <th>2</th>\n",
       "      <td>중년</td>\n",
       "      <td>여성</td>\n",
       "      <td>직장, 업무 스트레스</td>\n",
       "      <td>해당없음</td>\n",
       "      <td>불안</td>\n",
       "      <td>불안</td>\n",
       "      <td>거래처와의 다음 계약이 무산될까봐 불안해.</td>\n",
       "      <td>많이 걱정되시겠어요. 계약이 무산될 것 같다고 생각하는 이유가 있으신가요?</td>\n",
       "      <td>계약을 성공적으로 마무리하실 수 있기를 기원해요.</td>\n",
       "    </tr>\n",
       "    <tr>\n",
       "      <th>3</th>\n",
       "      <td>노년</td>\n",
       "      <td>남성</td>\n",
       "      <td>대인관계</td>\n",
       "      <td>만성질환 유</td>\n",
       "      <td>슬픔</td>\n",
       "      <td>염세적인</td>\n",
       "      <td>당뇨로 고생 중인데 아내가 이혼하자더군. 아내가 날 버리면 병은 더 악화될 텐데 세...</td>\n",
       "      <td>몸이 아픈데 아내가 이혼하자고 하니 혼자 있는 것 같은 기분을 느끼셨군요.</td>\n",
       "      <td>지금의 기분에서 벗어나기 위해 무엇을 하면 좋을까요?</td>\n",
       "    </tr>\n",
       "    <tr>\n",
       "      <th>4</th>\n",
       "      <td>노년</td>\n",
       "      <td>남성</td>\n",
       "      <td>재정</td>\n",
       "      <td>만성질환 유</td>\n",
       "      <td>슬픔</td>\n",
       "      <td>마비된</td>\n",
       "      <td>노년에 재정적으로 이루어 놓은게 없어서 걱정이야.</td>\n",
       "      <td>나이들어 재정적으로 어려워서 걱정되시는군요.</td>\n",
       "      <td>막막한 현실이지만 분명 해결책을 찾을 수 있을거예요.</td>\n",
       "    </tr>\n",
       "  </tbody>\n",
       "</table>\n",
       "</div>"
      ],
      "text/plain": [
       "  Age Gender    Situation Condition Emotion1 Emotion2  \\\n",
       "0  청년     여성   진로, 취업, 직장      해당없음       기쁨     신이 난   \n",
       "1  청년     여성   연애, 결혼, 출산      해당없음       기쁨     신이 난   \n",
       "2  중년     여성  직장, 업무 스트레스      해당없음       불안       불안   \n",
       "3  노년     남성         대인관계    만성질환 유       슬픔     염세적인   \n",
       "4  노년     남성           재정    만성질환 유       슬픔      마비된   \n",
       "\n",
       "                                              Human1  \\\n",
       "0                                    지금 난 기분이 너무 좋아.   \n",
       "1                                  나도 조카가 생겨! 너무 기뻐.   \n",
       "2                            거래처와의 다음 계약이 무산될까봐 불안해.   \n",
       "3  당뇨로 고생 중인데 아내가 이혼하자더군. 아내가 날 버리면 병은 더 악화될 텐데 세...   \n",
       "4                        노년에 재정적으로 이루어 놓은게 없어서 걱정이야.   \n",
       "\n",
       "                                   Computer1                       Computer2  \n",
       "0                굉장히 즐거우신 것 같은데요? 좋은 일이 있나요?  그거 정말 기분 좋을 만하네요. 무엇을 할 예정인가요?  \n",
       "1             정말 좋은 소식이네요. 축하할 특별한 계획이 있을까요?            언니에게 꽃을 선물하려고 하시는군요.  \n",
       "2  많이 걱정되시겠어요. 계약이 무산될 것 같다고 생각하는 이유가 있으신가요?     계약을 성공적으로 마무리하실 수 있기를 기원해요.  \n",
       "3  몸이 아픈데 아내가 이혼하자고 하니 혼자 있는 것 같은 기분을 느끼셨군요.   지금의 기분에서 벗어나기 위해 무엇을 하면 좋을까요?  \n",
       "4                   나이들어 재정적으로 어려워서 걱정되시는군요.   막막한 현실이지만 분명 해결책을 찾을 수 있을거예요.  "
      ]
     },
     "execution_count": 13,
     "metadata": {},
     "output_type": "execute_result"
    }
   ],
   "source": [
    "df.head()"
   ]
  },
  {
   "cell_type": "code",
   "execution_count": 14,
   "id": "b824a5d8-11cd-4dbd-b883-e10fe8f6bbc6",
   "metadata": {},
   "outputs": [
    {
     "data": {
      "text/plain": [
       "상처    13504\n",
       "슬픔    12708\n",
       "분노    12503\n",
       "기쁨    12449\n",
       "불안    12383\n",
       "당황    11308\n",
       "Name: Emotion1, dtype: int64"
      ]
     },
     "execution_count": 14,
     "metadata": {},
     "output_type": "execute_result"
    }
   ],
   "source": [
    "df.Emotion1.value_counts()"
   ]
  },
  {
   "cell_type": "code",
   "execution_count": 18,
   "id": "ce86f82d-ea44-461e-845a-7c1eb2bbc57c",
   "metadata": {},
   "outputs": [
    {
     "data": {
      "text/plain": [
       "((74855, 1), (74855, 1))"
      ]
     },
     "execution_count": 18,
     "metadata": {},
     "output_type": "execute_result"
    }
   ],
   "source": [
    "features = df[['Human1']]\n",
    "targets = df[['Emotion1']] \n",
    "\n",
    "features.shape, targets.shape"
   ]
  },
  {
   "cell_type": "code",
   "execution_count": 19,
   "id": "c4f2c633-730c-4aa8-b9bf-7a7dc40827f6",
   "metadata": {},
   "outputs": [
    {
     "data": {
      "text/html": [
       "<div>\n",
       "<style scoped>\n",
       "    .dataframe tbody tr th:only-of-type {\n",
       "        vertical-align: middle;\n",
       "    }\n",
       "\n",
       "    .dataframe tbody tr th {\n",
       "        vertical-align: top;\n",
       "    }\n",
       "\n",
       "    .dataframe thead th {\n",
       "        text-align: right;\n",
       "    }\n",
       "</style>\n",
       "<table border=\"1\" class=\"dataframe\">\n",
       "  <thead>\n",
       "    <tr style=\"text-align: right;\">\n",
       "      <th></th>\n",
       "      <th>Human1</th>\n",
       "    </tr>\n",
       "  </thead>\n",
       "  <tbody>\n",
       "    <tr>\n",
       "      <th>0</th>\n",
       "      <td>지금 난 기분이 너무 좋아.</td>\n",
       "    </tr>\n",
       "    <tr>\n",
       "      <th>1</th>\n",
       "      <td>나도 조카가 생겨! 너무 기뻐.</td>\n",
       "    </tr>\n",
       "    <tr>\n",
       "      <th>2</th>\n",
       "      <td>거래처와의 다음 계약이 무산될까봐 불안해.</td>\n",
       "    </tr>\n",
       "    <tr>\n",
       "      <th>3</th>\n",
       "      <td>당뇨로 고생 중인데 아내가 이혼하자더군. 아내가 날 버리면 병은 더 악화될 텐데 세...</td>\n",
       "    </tr>\n",
       "    <tr>\n",
       "      <th>4</th>\n",
       "      <td>노년에 재정적으로 이루어 놓은게 없어서 걱정이야.</td>\n",
       "    </tr>\n",
       "  </tbody>\n",
       "</table>\n",
       "</div>"
      ],
      "text/plain": [
       "                                              Human1\n",
       "0                                    지금 난 기분이 너무 좋아.\n",
       "1                                  나도 조카가 생겨! 너무 기뻐.\n",
       "2                            거래처와의 다음 계약이 무산될까봐 불안해.\n",
       "3  당뇨로 고생 중인데 아내가 이혼하자더군. 아내가 날 버리면 병은 더 악화될 텐데 세...\n",
       "4                        노년에 재정적으로 이루어 놓은게 없어서 걱정이야."
      ]
     },
     "execution_count": 19,
     "metadata": {},
     "output_type": "execute_result"
    }
   ],
   "source": [
    "features.head()"
   ]
  },
  {
   "cell_type": "code",
   "execution_count": 20,
   "id": "afb7d318-124c-4b22-bd07-0f971e4bde0b",
   "metadata": {},
   "outputs": [
    {
     "data": {
      "text/html": [
       "<div>\n",
       "<style scoped>\n",
       "    .dataframe tbody tr th:only-of-type {\n",
       "        vertical-align: middle;\n",
       "    }\n",
       "\n",
       "    .dataframe tbody tr th {\n",
       "        vertical-align: top;\n",
       "    }\n",
       "\n",
       "    .dataframe thead th {\n",
       "        text-align: right;\n",
       "    }\n",
       "</style>\n",
       "<table border=\"1\" class=\"dataframe\">\n",
       "  <thead>\n",
       "    <tr style=\"text-align: right;\">\n",
       "      <th></th>\n",
       "      <th>Emotion1</th>\n",
       "    </tr>\n",
       "  </thead>\n",
       "  <tbody>\n",
       "    <tr>\n",
       "      <th>0</th>\n",
       "      <td>기쁨</td>\n",
       "    </tr>\n",
       "    <tr>\n",
       "      <th>1</th>\n",
       "      <td>기쁨</td>\n",
       "    </tr>\n",
       "    <tr>\n",
       "      <th>2</th>\n",
       "      <td>불안</td>\n",
       "    </tr>\n",
       "    <tr>\n",
       "      <th>3</th>\n",
       "      <td>슬픔</td>\n",
       "    </tr>\n",
       "    <tr>\n",
       "      <th>4</th>\n",
       "      <td>슬픔</td>\n",
       "    </tr>\n",
       "  </tbody>\n",
       "</table>\n",
       "</div>"
      ],
      "text/plain": [
       "  Emotion1\n",
       "0       기쁨\n",
       "1       기쁨\n",
       "2       불안\n",
       "3       슬픔\n",
       "4       슬픔"
      ]
     },
     "execution_count": 20,
     "metadata": {},
     "output_type": "execute_result"
    }
   ],
   "source": [
    "targets.head()"
   ]
  },
  {
   "cell_type": "code",
   "execution_count": 22,
   "id": "256100aa-ca97-43b5-9ed4-d8e62ff87afd",
   "metadata": {},
   "outputs": [
    {
     "name": "stdout",
     "output_type": "stream",
     "text": [
      "['이', '있', '하', '것', '들', '그', '되', '수', '이', '보', '않', '없', '나', '사람', '주', '아니', '등', '같', '우리', '때', '년', '가', '한', '지', '대하', '오', '말', '일', '그렇', '위하', '때문', '그것', '두', '말하', '알', '그러나', '받', '못하', '일', '그런', '또', '문제', '더', '사회', '많', '그리고', '좋', '크', '따르', '중', '나오', '가지', '씨', '시키', '만들', '지금', '생각하', '그러', '속', '하나', '집', '살', '모르', '적', '월', '데', '자신', '안', '어떤', '내', '내', '경우', '명', '생각', '시간', '그녀', '다시', '이런', '앞', '보이', '번', '나', '다른', '어떻', '여자', '개', '전', '들', '사실', '이렇', '점', '싶', '말', '정도', '좀', '원', '잘', '통하', '소리', '놓']\n"
     ]
    }
   ],
   "source": [
    "with open('한국어불용어100.txt') as f:\n",
    "    lines = f.readlines()\n",
    "stopwords = []\n",
    "for stopword in lines:\n",
    "    stopwords.append(stopword.split('\\t')[0])\n",
    "print(stopwords)"
   ]
  },
  {
   "cell_type": "code",
   "execution_count": 26,
   "id": "364121a6-f796-4b63-a98a-ecd6328406a1",
   "metadata": {},
   "outputs": [
    {
     "name": "stderr",
     "output_type": "stream",
     "text": [
      "/var/folders/9_/rnj5svk11p1157tkdv28yb6r0000gn/T/ipykernel_44099/528249083.py:1: FutureWarning: The default value of regex will change from True to False in a future version.\n",
      "  features['Human1'] = features['Human1'].str.replace(\"[^ ㄱ-ㅣ가-힣a-zA-Z0-9+]\", \" \")\n",
      "/var/folders/9_/rnj5svk11p1157tkdv28yb6r0000gn/T/ipykernel_44099/528249083.py:1: SettingWithCopyWarning: \n",
      "A value is trying to be set on a copy of a slice from a DataFrame.\n",
      "Try using .loc[row_indexer,col_indexer] = value instead\n",
      "\n",
      "See the caveats in the documentation: https://pandas.pydata.org/pandas-docs/stable/user_guide/indexing.html#returning-a-view-versus-a-copy\n",
      "  features['Human1'] = features['Human1'].str.replace(\"[^ ㄱ-ㅣ가-힣a-zA-Z0-9+]\", \" \")\n"
     ]
    },
    {
     "data": {
      "text/html": [
       "<div>\n",
       "<style scoped>\n",
       "    .dataframe tbody tr th:only-of-type {\n",
       "        vertical-align: middle;\n",
       "    }\n",
       "\n",
       "    .dataframe tbody tr th {\n",
       "        vertical-align: top;\n",
       "    }\n",
       "\n",
       "    .dataframe thead th {\n",
       "        text-align: right;\n",
       "    }\n",
       "</style>\n",
       "<table border=\"1\" class=\"dataframe\">\n",
       "  <thead>\n",
       "    <tr style=\"text-align: right;\">\n",
       "      <th></th>\n",
       "      <th>Human1</th>\n",
       "    </tr>\n",
       "  </thead>\n",
       "  <tbody>\n",
       "    <tr>\n",
       "      <th>0</th>\n",
       "      <td>지금 난 기분이 너무 좋아</td>\n",
       "    </tr>\n",
       "    <tr>\n",
       "      <th>1</th>\n",
       "      <td>나도 조카가 생겨  너무 기뻐</td>\n",
       "    </tr>\n",
       "    <tr>\n",
       "      <th>2</th>\n",
       "      <td>거래처와의 다음 계약이 무산될까봐 불안해</td>\n",
       "    </tr>\n",
       "    <tr>\n",
       "      <th>3</th>\n",
       "      <td>당뇨로 고생 중인데 아내가 이혼하자더군  아내가 날 버리면 병은 더 악화될 텐데 세...</td>\n",
       "    </tr>\n",
       "    <tr>\n",
       "      <th>4</th>\n",
       "      <td>노년에 재정적으로 이루어 놓은게 없어서 걱정이야</td>\n",
       "    </tr>\n",
       "  </tbody>\n",
       "</table>\n",
       "</div>"
      ],
      "text/plain": [
       "                                              Human1\n",
       "0                                    지금 난 기분이 너무 좋아 \n",
       "1                                  나도 조카가 생겨  너무 기뻐 \n",
       "2                            거래처와의 다음 계약이 무산될까봐 불안해 \n",
       "3  당뇨로 고생 중인데 아내가 이혼하자더군  아내가 날 버리면 병은 더 악화될 텐데 세...\n",
       "4                        노년에 재정적으로 이루어 놓은게 없어서 걱정이야 "
      ]
     },
     "execution_count": 26,
     "metadata": {},
     "output_type": "execute_result"
    }
   ],
   "source": [
    "features['Human1'] = features['Human1'].str.replace(\"[^ ㄱ-ㅣ가-힣a-zA-Z0-9+]\", \" \")\n",
    "features.head()"
   ]
  },
  {
   "cell_type": "code",
   "execution_count": 51,
   "id": "cb44b846-39e4-4647-a435-8c89a095bd29",
   "metadata": {},
   "outputs": [
    {
     "name": "stderr",
     "output_type": "stream",
     "text": [
      "/var/folders/9_/rnj5svk11p1157tkdv28yb6r0000gn/T/ipykernel_44099/3590510365.py:1: SettingWithCopyWarning: \n",
      "A value is trying to be set on a copy of a slice from a DataFrame.\n",
      "Try using .loc[row_indexer,col_indexer] = value instead\n",
      "\n",
      "See the caveats in the documentation: https://pandas.pydata.org/pandas-docs/stable/user_guide/indexing.html#returning-a-view-versus-a-copy\n",
      "  features['Human1'] = features['Human1'].apply(lambda x: ' '.join([w for w in x.split() if w not in stopwords]))\n"
     ]
    }
   ],
   "source": [
    "features['Human1'] = features['Human1'].apply(lambda x: ' '.join([w for w in x.split() if w not in stopwords]))"
   ]
  },
  {
   "cell_type": "code",
   "execution_count": 52,
   "id": "94e04f9a-77dc-4322-b6d1-d42eac259158",
   "metadata": {},
   "outputs": [
    {
     "data": {
      "text/html": [
       "<div>\n",
       "<style scoped>\n",
       "    .dataframe tbody tr th:only-of-type {\n",
       "        vertical-align: middle;\n",
       "    }\n",
       "\n",
       "    .dataframe tbody tr th {\n",
       "        vertical-align: top;\n",
       "    }\n",
       "\n",
       "    .dataframe thead th {\n",
       "        text-align: right;\n",
       "    }\n",
       "</style>\n",
       "<table border=\"1\" class=\"dataframe\">\n",
       "  <thead>\n",
       "    <tr style=\"text-align: right;\">\n",
       "      <th></th>\n",
       "      <th>Human1</th>\n",
       "    </tr>\n",
       "  </thead>\n",
       "  <tbody>\n",
       "    <tr>\n",
       "      <th>0</th>\n",
       "      <td>난 기분이 너무 좋아</td>\n",
       "    </tr>\n",
       "    <tr>\n",
       "      <th>1</th>\n",
       "      <td>나도 조카가 생겨 너무 기뻐</td>\n",
       "    </tr>\n",
       "    <tr>\n",
       "      <th>2</th>\n",
       "      <td>거래처와의 다음 계약이 무산될까봐 불안해</td>\n",
       "    </tr>\n",
       "    <tr>\n",
       "      <th>3</th>\n",
       "      <td>당뇨로 고생 중인데 아내가 이혼하자더군 아내가 날 버리면 병은 악화될 텐데 세상에 ...</td>\n",
       "    </tr>\n",
       "    <tr>\n",
       "      <th>4</th>\n",
       "      <td>노년에 재정적으로 이루어 놓은게 없어서 걱정이야</td>\n",
       "    </tr>\n",
       "  </tbody>\n",
       "</table>\n",
       "</div>"
      ],
      "text/plain": [
       "                                              Human1\n",
       "0                                        난 기분이 너무 좋아\n",
       "1                                    나도 조카가 생겨 너무 기뻐\n",
       "2                             거래처와의 다음 계약이 무산될까봐 불안해\n",
       "3  당뇨로 고생 중인데 아내가 이혼하자더군 아내가 날 버리면 병은 악화될 텐데 세상에 ...\n",
       "4                         노년에 재정적으로 이루어 놓은게 없어서 걱정이야"
      ]
     },
     "execution_count": 52,
     "metadata": {},
     "output_type": "execute_result"
    }
   ],
   "source": [
    "features.head()"
   ]
  },
  {
   "cell_type": "code",
   "execution_count": 53,
   "id": "475e3d6a-cf6b-4b3a-bee6-6302488e811f",
   "metadata": {},
   "outputs": [
    {
     "data": {
      "text/plain": [
       "((63626,), (11229,))"
      ]
     },
     "execution_count": 53,
     "metadata": {},
     "output_type": "execute_result"
    }
   ],
   "source": [
    "from sklearn.model_selection import train_test_split\n",
    "from category_encoders import OrdinalEncoder\n",
    "\n",
    "enc = OrdinalEncoder()\n",
    "target = enc.fit_transform(targets['Emotion1'])\n",
    "X_train, X_test, y_train, y_test = train_test_split(features['Human1'], target, \n",
    "                                                    test_size=0.15, stratify=target,\n",
    "                                                    random_state=33)\n",
    "\n",
    "X_train.shape, X_test.shape"
   ]
  },
  {
   "cell_type": "code",
   "execution_count": 54,
   "id": "c9c3454d-db64-404b-9aaf-5ed5d6e443dd",
   "metadata": {},
   "outputs": [
    {
     "data": {
      "text/plain": [
       "10349    오늘 길 가는데 모르는 사람이 인사를 하는 거야\n",
       "44343                 요새 죄책감이 많이 들어\n",
       "2590            사람만 생각하면 구역질이나고 화가나\n",
       "54945             아들이랑 나는 사이가 정말 좋아\n",
       "41867              미래에 뭘 해야 할지 모르겠어\n",
       "Name: Human1, dtype: object"
      ]
     },
     "execution_count": 54,
     "metadata": {},
     "output_type": "execute_result"
    }
   ],
   "source": [
    "X_train.head()"
   ]
  },
  {
   "cell_type": "code",
   "execution_count": 55,
   "id": "135aefa1-7c36-459b-b856-0f791ba0f7c2",
   "metadata": {},
   "outputs": [
    {
     "data": {
      "text/html": [
       "<div>\n",
       "<style scoped>\n",
       "    .dataframe tbody tr th:only-of-type {\n",
       "        vertical-align: middle;\n",
       "    }\n",
       "\n",
       "    .dataframe tbody tr th {\n",
       "        vertical-align: top;\n",
       "    }\n",
       "\n",
       "    .dataframe thead th {\n",
       "        text-align: right;\n",
       "    }\n",
       "</style>\n",
       "<table border=\"1\" class=\"dataframe\">\n",
       "  <thead>\n",
       "    <tr style=\"text-align: right;\">\n",
       "      <th></th>\n",
       "      <th>Emotion1</th>\n",
       "    </tr>\n",
       "  </thead>\n",
       "  <tbody>\n",
       "    <tr>\n",
       "      <th>10349</th>\n",
       "      <td>3</td>\n",
       "    </tr>\n",
       "    <tr>\n",
       "      <th>44343</th>\n",
       "      <td>3</td>\n",
       "    </tr>\n",
       "    <tr>\n",
       "      <th>2590</th>\n",
       "      <td>5</td>\n",
       "    </tr>\n",
       "    <tr>\n",
       "      <th>54945</th>\n",
       "      <td>0</td>\n",
       "    </tr>\n",
       "    <tr>\n",
       "      <th>41867</th>\n",
       "      <td>4</td>\n",
       "    </tr>\n",
       "  </tbody>\n",
       "</table>\n",
       "</div>"
      ],
      "text/plain": [
       "       Emotion1\n",
       "10349         3\n",
       "44343         3\n",
       "2590          5\n",
       "54945         0\n",
       "41867         4"
      ]
     },
     "execution_count": 55,
     "metadata": {},
     "output_type": "execute_result"
    }
   ],
   "source": [
    "y_train['Emotion1'] = y_train['Emotion1'].apply(lambda x: x-1)\n",
    "y_train.head()"
   ]
  },
  {
   "cell_type": "code",
   "execution_count": 56,
   "id": "3584f892-8b70-4f51-87fb-f79b4b88a6b7",
   "metadata": {},
   "outputs": [
    {
     "data": {
      "text/html": [
       "<div>\n",
       "<style scoped>\n",
       "    .dataframe tbody tr th:only-of-type {\n",
       "        vertical-align: middle;\n",
       "    }\n",
       "\n",
       "    .dataframe tbody tr th {\n",
       "        vertical-align: top;\n",
       "    }\n",
       "\n",
       "    .dataframe thead th {\n",
       "        text-align: right;\n",
       "    }\n",
       "</style>\n",
       "<table border=\"1\" class=\"dataframe\">\n",
       "  <thead>\n",
       "    <tr style=\"text-align: right;\">\n",
       "      <th></th>\n",
       "      <th>Emotion1</th>\n",
       "    </tr>\n",
       "  </thead>\n",
       "  <tbody>\n",
       "    <tr>\n",
       "      <th>27233</th>\n",
       "      <td>2</td>\n",
       "    </tr>\n",
       "    <tr>\n",
       "      <th>50477</th>\n",
       "      <td>2</td>\n",
       "    </tr>\n",
       "    <tr>\n",
       "      <th>25256</th>\n",
       "      <td>4</td>\n",
       "    </tr>\n",
       "    <tr>\n",
       "      <th>24432</th>\n",
       "      <td>0</td>\n",
       "    </tr>\n",
       "    <tr>\n",
       "      <th>1177</th>\n",
       "      <td>1</td>\n",
       "    </tr>\n",
       "  </tbody>\n",
       "</table>\n",
       "</div>"
      ],
      "text/plain": [
       "       Emotion1\n",
       "27233         2\n",
       "50477         2\n",
       "25256         4\n",
       "24432         0\n",
       "1177          1"
      ]
     },
     "execution_count": 56,
     "metadata": {},
     "output_type": "execute_result"
    }
   ],
   "source": [
    "y_test['Emotion1'] = y_test['Emotion1'].apply(lambda x: x-1)\n",
    "y_test.head()"
   ]
  },
  {
   "cell_type": "code",
   "execution_count": 57,
   "id": "416a67fe-067d-4307-b08a-7ccf6dcb0b86",
   "metadata": {},
   "outputs": [
    {
     "data": {
      "text/plain": [
       "<tf.Tensor: shape=(63626, 6), dtype=float32, numpy=\n",
       "array([[0., 0., 0., 1., 0., 0.],\n",
       "       [0., 0., 0., 1., 0., 0.],\n",
       "       [0., 0., 0., 0., 0., 1.],\n",
       "       ...,\n",
       "       [0., 0., 0., 0., 0., 1.],\n",
       "       [0., 0., 0., 0., 1., 0.],\n",
       "       [0., 0., 0., 0., 0., 1.]], dtype=float32)>"
      ]
     },
     "execution_count": 57,
     "metadata": {},
     "output_type": "execute_result"
    }
   ],
   "source": [
    "import tensorflow as tf\n",
    "from tensorflow.keras.layers import Dense, BatchNormalization, LSTM, Embedding, SimpleRNN, RNN, LSTMCell\n",
    "from tensorflow.keras.models import Sequential\n",
    "from tensorflow.keras.preprocessing.text import Tokenizer\n",
    "from tensorflow.keras.preprocessing import sequence\n",
    "\n",
    "y_train_oh = tf.one_hot(y_train['Emotion1'], 6)\n",
    "y_test_oh = tf.one_hot(y_test['Emotion1'], 6)\n",
    "y_train_oh"
   ]
  },
  {
   "cell_type": "code",
   "execution_count": 58,
   "id": "ab9a4f72-8fc1-4d83-acbf-d37cd37b0c2a",
   "metadata": {},
   "outputs": [],
   "source": [
    "token = Tokenizer(num_words=6000)"
   ]
  },
  {
   "cell_type": "code",
   "execution_count": 59,
   "id": "936bec20-02a5-415d-b7a9-668d57d39881",
   "metadata": {},
   "outputs": [
    {
     "data": {
      "text/plain": [
       "64303"
      ]
     },
     "execution_count": 59,
     "metadata": {},
     "output_type": "execute_result"
    }
   ],
   "source": [
    "token.fit_on_texts(X_train)\n",
    "len(token.word_index)"
   ]
  },
  {
   "cell_type": "code",
   "execution_count": 60,
   "id": "65db45bb-72dd-4030-a429-67f6b0931423",
   "metadata": {},
   "outputs": [],
   "source": [
    "X_train_enc = token.texts_to_sequences(X_train)"
   ]
  },
  {
   "cell_type": "code",
   "execution_count": 61,
   "id": "d70ba433-4911-4a3f-a4c5-a73a286833b6",
   "metadata": {},
   "outputs": [
    {
     "data": {
      "text/plain": [
       "26"
      ]
     },
     "execution_count": 61,
     "metadata": {},
     "output_type": "execute_result"
    }
   ],
   "source": [
    "max(len(x) for x in X_train_enc)"
   ]
  },
  {
   "cell_type": "code",
   "execution_count": 62,
   "id": "18c5709a-4a24-40f8-80c1-f85aa4795fa3",
   "metadata": {},
   "outputs": [
    {
     "data": {
      "text/plain": [
       "6.109294942319178"
      ]
     },
     "execution_count": 62,
     "metadata": {},
     "output_type": "execute_result"
    }
   ],
   "source": [
    "np.mean([len(x) for x in X_train_enc])"
   ]
  },
  {
   "cell_type": "code",
   "execution_count": 63,
   "id": "fe494199-5c41-40e1-be90-e5638553adc0",
   "metadata": {},
   "outputs": [
    {
     "data": {
      "text/plain": [
       "array([[   5, 3128,  814, ...,    0,    0,    0],\n",
       "       [ 139,  358,   11, ...,    0,    0,    0],\n",
       "       [5809,  326,  468, ...,    0,    0,    0],\n",
       "       ...,\n",
       "       [   6,   71, 2393, ...,    0,    0,    0],\n",
       "       [ 219, 4212,  732, ...,    0,    0,    0],\n",
       "       [2087,   29, 4152, ...,    0,    0,    0]], dtype=int32)"
      ]
     },
     "execution_count": 63,
     "metadata": {},
     "output_type": "execute_result"
    }
   ],
   "source": [
    "X_train = sequence.pad_sequences(X_train_enc, maxlen=15, padding='post')\n",
    "X_train"
   ]
  },
  {
   "cell_type": "code",
   "execution_count": 64,
   "id": "2310917e-0d59-4d2b-9179-010fe76e15d1",
   "metadata": {},
   "outputs": [
    {
     "data": {
      "text/plain": [
       "64304"
      ]
     },
     "execution_count": 64,
     "metadata": {},
     "output_type": "execute_result"
    }
   ],
   "source": [
    "vocab_size = len(token.word_index) + 1\n",
    "vocab_size"
   ]
  },
  {
   "cell_type": "code",
   "execution_count": 99,
   "id": "745ef2fc-64c4-46f0-84b2-b07284ee23c7",
   "metadata": {
    "scrolled": true,
    "tags": []
   },
   "outputs": [
    {
     "name": "stdout",
     "output_type": "stream",
     "text": [
      "Trial 37 Complete [00h 00m 09s]\n",
      "val_accuracy: 0.384010910987854\n",
      "\n",
      "Best val_accuracy So Far: 0.49591365456581116\n",
      "Total elapsed time: 00h 06m 12s\n",
      "\n",
      "Search: Running Trial #38\n",
      "\n",
      "Hyperparameter    |Value             |Best Value So Far \n",
      "units             |72                |48                \n",
      "units1            |48                |72                \n",
      "units2            |88                |40                \n",
      "learning_rate     |0.01              |0.01              \n",
      "tuner/epochs      |2                 |2                 \n",
      "tuner/initial_e...|0                 |0                 \n",
      "tuner/bracket     |4                 |4                 \n",
      "tuner/round       |0                 |0                 \n",
      "\n",
      "Epoch 1/2\n",
      "55/68 [=======================>......] - ETA: 0s - loss: 1.4383 - accuracy: 0.4342"
     ]
    },
    {
     "ename": "KeyboardInterrupt",
     "evalue": "",
     "output_type": "error",
     "traceback": [
      "\u001b[0;31m---------------------------------------------------------------------------\u001b[0m",
      "\u001b[0;31mKeyboardInterrupt\u001b[0m                         Traceback (most recent call last)",
      "\u001b[0;32m/var/folders/9_/rnj5svk11p1157tkdv28yb6r0000gn/T/ipykernel_44099/2149504111.py\u001b[0m in \u001b[0;36m<module>\u001b[0;34m\u001b[0m\n\u001b[1;32m     61\u001b[0m     options=None)\n\u001b[1;32m     62\u001b[0m \u001b[0;34m\u001b[0m\u001b[0m\n\u001b[0;32m---> 63\u001b[0;31m tuner.search(X_train, y_train_oh, \n\u001b[0m\u001b[1;32m     64\u001b[0m              \u001b[0mepochs\u001b[0m\u001b[0;34m=\u001b[0m\u001b[0;36m100\u001b[0m\u001b[0;34m,\u001b[0m\u001b[0;34m\u001b[0m\u001b[0;34m\u001b[0m\u001b[0m\n\u001b[1;32m     65\u001b[0m              \u001b[0mbatch_size\u001b[0m\u001b[0;34m=\u001b[0m\u001b[0;36m800\u001b[0m\u001b[0;34m,\u001b[0m\u001b[0;34m\u001b[0m\u001b[0;34m\u001b[0m\u001b[0m\n",
      "\u001b[0;32m/opt/homebrew/Caskroom/miniforge/base/envs/tf2/lib/python3.8/site-packages/keras_tuner/engine/base_tuner.py\u001b[0m in \u001b[0;36msearch\u001b[0;34m(self, *fit_args, **fit_kwargs)\u001b[0m\n\u001b[1;32m    177\u001b[0m \u001b[0;34m\u001b[0m\u001b[0m\n\u001b[1;32m    178\u001b[0m             \u001b[0mself\u001b[0m\u001b[0;34m.\u001b[0m\u001b[0mon_trial_begin\u001b[0m\u001b[0;34m(\u001b[0m\u001b[0mtrial\u001b[0m\u001b[0;34m)\u001b[0m\u001b[0;34m\u001b[0m\u001b[0;34m\u001b[0m\u001b[0m\n\u001b[0;32m--> 179\u001b[0;31m             \u001b[0mresults\u001b[0m \u001b[0;34m=\u001b[0m \u001b[0mself\u001b[0m\u001b[0;34m.\u001b[0m\u001b[0mrun_trial\u001b[0m\u001b[0;34m(\u001b[0m\u001b[0mtrial\u001b[0m\u001b[0;34m,\u001b[0m \u001b[0;34m*\u001b[0m\u001b[0mfit_args\u001b[0m\u001b[0;34m,\u001b[0m \u001b[0;34m**\u001b[0m\u001b[0mfit_kwargs\u001b[0m\u001b[0;34m)\u001b[0m\u001b[0;34m\u001b[0m\u001b[0;34m\u001b[0m\u001b[0m\n\u001b[0m\u001b[1;32m    180\u001b[0m             \u001b[0;31m# `results` is None indicates user updated oracle in `run_trial()`.\u001b[0m\u001b[0;34m\u001b[0m\u001b[0;34m\u001b[0m\u001b[0;34m\u001b[0m\u001b[0m\n\u001b[1;32m    181\u001b[0m             \u001b[0;32mif\u001b[0m \u001b[0mresults\u001b[0m \u001b[0;32mis\u001b[0m \u001b[0;32mNone\u001b[0m\u001b[0;34m:\u001b[0m\u001b[0;34m\u001b[0m\u001b[0;34m\u001b[0m\u001b[0m\n",
      "\u001b[0;32m/opt/homebrew/Caskroom/miniforge/base/envs/tf2/lib/python3.8/site-packages/keras_tuner/tuners/hyperband.py\u001b[0m in \u001b[0;36mrun_trial\u001b[0;34m(self, trial, *fit_args, **fit_kwargs)\u001b[0m\n\u001b[1;32m    374\u001b[0m             \u001b[0mfit_kwargs\u001b[0m\u001b[0;34m[\u001b[0m\u001b[0;34m\"epochs\"\u001b[0m\u001b[0;34m]\u001b[0m \u001b[0;34m=\u001b[0m \u001b[0mhp\u001b[0m\u001b[0;34m.\u001b[0m\u001b[0mvalues\u001b[0m\u001b[0;34m[\u001b[0m\u001b[0;34m\"tuner/epochs\"\u001b[0m\u001b[0;34m]\u001b[0m\u001b[0;34m\u001b[0m\u001b[0;34m\u001b[0m\u001b[0m\n\u001b[1;32m    375\u001b[0m             \u001b[0mfit_kwargs\u001b[0m\u001b[0;34m[\u001b[0m\u001b[0;34m\"initial_epoch\"\u001b[0m\u001b[0;34m]\u001b[0m \u001b[0;34m=\u001b[0m \u001b[0mhp\u001b[0m\u001b[0;34m.\u001b[0m\u001b[0mvalues\u001b[0m\u001b[0;34m[\u001b[0m\u001b[0;34m\"tuner/initial_epoch\"\u001b[0m\u001b[0;34m]\u001b[0m\u001b[0;34m\u001b[0m\u001b[0;34m\u001b[0m\u001b[0m\n\u001b[0;32m--> 376\u001b[0;31m         \u001b[0;32mreturn\u001b[0m \u001b[0msuper\u001b[0m\u001b[0;34m(\u001b[0m\u001b[0mHyperband\u001b[0m\u001b[0;34m,\u001b[0m \u001b[0mself\u001b[0m\u001b[0;34m)\u001b[0m\u001b[0;34m.\u001b[0m\u001b[0mrun_trial\u001b[0m\u001b[0;34m(\u001b[0m\u001b[0mtrial\u001b[0m\u001b[0;34m,\u001b[0m \u001b[0;34m*\u001b[0m\u001b[0mfit_args\u001b[0m\u001b[0;34m,\u001b[0m \u001b[0;34m**\u001b[0m\u001b[0mfit_kwargs\u001b[0m\u001b[0;34m)\u001b[0m\u001b[0;34m\u001b[0m\u001b[0;34m\u001b[0m\u001b[0m\n\u001b[0m\u001b[1;32m    377\u001b[0m \u001b[0;34m\u001b[0m\u001b[0m\n\u001b[1;32m    378\u001b[0m     \u001b[0;32mdef\u001b[0m \u001b[0m_build_model\u001b[0m\u001b[0;34m(\u001b[0m\u001b[0mself\u001b[0m\u001b[0;34m,\u001b[0m \u001b[0mhp\u001b[0m\u001b[0;34m)\u001b[0m\u001b[0;34m:\u001b[0m\u001b[0;34m\u001b[0m\u001b[0;34m\u001b[0m\u001b[0m\n",
      "\u001b[0;32m/opt/homebrew/Caskroom/miniforge/base/envs/tf2/lib/python3.8/site-packages/keras_tuner/engine/tuner.py\u001b[0m in \u001b[0;36mrun_trial\u001b[0;34m(self, trial, *args, **kwargs)\u001b[0m\n\u001b[1;32m    302\u001b[0m             \u001b[0mcallbacks\u001b[0m\u001b[0;34m.\u001b[0m\u001b[0mappend\u001b[0m\u001b[0;34m(\u001b[0m\u001b[0mmodel_checkpoint\u001b[0m\u001b[0;34m)\u001b[0m\u001b[0;34m\u001b[0m\u001b[0;34m\u001b[0m\u001b[0m\n\u001b[1;32m    303\u001b[0m             \u001b[0mcopied_kwargs\u001b[0m\u001b[0;34m[\u001b[0m\u001b[0;34m\"callbacks\"\u001b[0m\u001b[0;34m]\u001b[0m \u001b[0;34m=\u001b[0m \u001b[0mcallbacks\u001b[0m\u001b[0;34m\u001b[0m\u001b[0;34m\u001b[0m\u001b[0m\n\u001b[0;32m--> 304\u001b[0;31m             \u001b[0mobj_value\u001b[0m \u001b[0;34m=\u001b[0m \u001b[0mself\u001b[0m\u001b[0;34m.\u001b[0m\u001b[0m_build_and_fit_model\u001b[0m\u001b[0;34m(\u001b[0m\u001b[0mtrial\u001b[0m\u001b[0;34m,\u001b[0m \u001b[0;34m*\u001b[0m\u001b[0margs\u001b[0m\u001b[0;34m,\u001b[0m \u001b[0;34m**\u001b[0m\u001b[0mcopied_kwargs\u001b[0m\u001b[0;34m)\u001b[0m\u001b[0;34m\u001b[0m\u001b[0;34m\u001b[0m\u001b[0m\n\u001b[0m\u001b[1;32m    305\u001b[0m \u001b[0;34m\u001b[0m\u001b[0m\n\u001b[1;32m    306\u001b[0m             \u001b[0;31m# objective left unspecified,\u001b[0m\u001b[0;34m\u001b[0m\u001b[0;34m\u001b[0m\u001b[0;34m\u001b[0m\u001b[0m\n",
      "\u001b[0;32m/opt/homebrew/Caskroom/miniforge/base/envs/tf2/lib/python3.8/site-packages/keras_tuner/engine/tuner.py\u001b[0m in \u001b[0;36m_build_and_fit_model\u001b[0;34m(self, trial, *args, **kwargs)\u001b[0m\n\u001b[1;32m    232\u001b[0m         \u001b[0mhp\u001b[0m \u001b[0;34m=\u001b[0m \u001b[0mtrial\u001b[0m\u001b[0;34m.\u001b[0m\u001b[0mhyperparameters\u001b[0m\u001b[0;34m\u001b[0m\u001b[0;34m\u001b[0m\u001b[0m\n\u001b[1;32m    233\u001b[0m         \u001b[0mmodel\u001b[0m \u001b[0;34m=\u001b[0m \u001b[0mself\u001b[0m\u001b[0;34m.\u001b[0m\u001b[0m_try_build\u001b[0m\u001b[0;34m(\u001b[0m\u001b[0mhp\u001b[0m\u001b[0;34m)\u001b[0m\u001b[0;34m\u001b[0m\u001b[0;34m\u001b[0m\u001b[0m\n\u001b[0;32m--> 234\u001b[0;31m         \u001b[0;32mreturn\u001b[0m \u001b[0mself\u001b[0m\u001b[0;34m.\u001b[0m\u001b[0mhypermodel\u001b[0m\u001b[0;34m.\u001b[0m\u001b[0mfit\u001b[0m\u001b[0;34m(\u001b[0m\u001b[0mhp\u001b[0m\u001b[0;34m,\u001b[0m \u001b[0mmodel\u001b[0m\u001b[0;34m,\u001b[0m \u001b[0;34m*\u001b[0m\u001b[0margs\u001b[0m\u001b[0;34m,\u001b[0m \u001b[0;34m**\u001b[0m\u001b[0mkwargs\u001b[0m\u001b[0;34m)\u001b[0m\u001b[0;34m\u001b[0m\u001b[0;34m\u001b[0m\u001b[0m\n\u001b[0m\u001b[1;32m    235\u001b[0m \u001b[0;34m\u001b[0m\u001b[0m\n\u001b[1;32m    236\u001b[0m     \u001b[0;32mdef\u001b[0m \u001b[0mrun_trial\u001b[0m\u001b[0;34m(\u001b[0m\u001b[0mself\u001b[0m\u001b[0;34m,\u001b[0m \u001b[0mtrial\u001b[0m\u001b[0;34m,\u001b[0m \u001b[0;34m*\u001b[0m\u001b[0margs\u001b[0m\u001b[0;34m,\u001b[0m \u001b[0;34m**\u001b[0m\u001b[0mkwargs\u001b[0m\u001b[0;34m)\u001b[0m\u001b[0;34m:\u001b[0m\u001b[0;34m\u001b[0m\u001b[0;34m\u001b[0m\u001b[0m\n",
      "\u001b[0;32m/opt/homebrew/Caskroom/miniforge/base/envs/tf2/lib/python3.8/site-packages/keras_tuner/engine/hypermodel.py\u001b[0m in \u001b[0;36mfit\u001b[0;34m(self, hp, model, *args, **kwargs)\u001b[0m\n\u001b[1;32m    135\u001b[0m             \u001b[0mIf\u001b[0m \u001b[0;32mreturn\u001b[0m \u001b[0ma\u001b[0m \u001b[0mfloat\u001b[0m\u001b[0;34m,\u001b[0m \u001b[0mit\u001b[0m \u001b[0mshould\u001b[0m \u001b[0mbe\u001b[0m \u001b[0mthe\u001b[0m\u001b[0;31m \u001b[0m\u001b[0;31m`\u001b[0m\u001b[0mobjective\u001b[0m\u001b[0;31m`\u001b[0m \u001b[0mvalue\u001b[0m\u001b[0;34m.\u001b[0m\u001b[0;34m\u001b[0m\u001b[0;34m\u001b[0m\u001b[0m\n\u001b[1;32m    136\u001b[0m         \"\"\"\n\u001b[0;32m--> 137\u001b[0;31m         \u001b[0;32mreturn\u001b[0m \u001b[0mmodel\u001b[0m\u001b[0;34m.\u001b[0m\u001b[0mfit\u001b[0m\u001b[0;34m(\u001b[0m\u001b[0;34m*\u001b[0m\u001b[0margs\u001b[0m\u001b[0;34m,\u001b[0m \u001b[0;34m**\u001b[0m\u001b[0mkwargs\u001b[0m\u001b[0;34m)\u001b[0m\u001b[0;34m\u001b[0m\u001b[0;34m\u001b[0m\u001b[0m\n\u001b[0m\u001b[1;32m    138\u001b[0m \u001b[0;34m\u001b[0m\u001b[0m\n\u001b[1;32m    139\u001b[0m \u001b[0;34m\u001b[0m\u001b[0m\n",
      "\u001b[0;32m/opt/homebrew/Caskroom/miniforge/base/envs/tf2/lib/python3.8/site-packages/keras/utils/traceback_utils.py\u001b[0m in \u001b[0;36merror_handler\u001b[0;34m(*args, **kwargs)\u001b[0m\n\u001b[1;32m     62\u001b[0m     \u001b[0mfiltered_tb\u001b[0m \u001b[0;34m=\u001b[0m \u001b[0;32mNone\u001b[0m\u001b[0;34m\u001b[0m\u001b[0;34m\u001b[0m\u001b[0m\n\u001b[1;32m     63\u001b[0m     \u001b[0;32mtry\u001b[0m\u001b[0;34m:\u001b[0m\u001b[0;34m\u001b[0m\u001b[0;34m\u001b[0m\u001b[0m\n\u001b[0;32m---> 64\u001b[0;31m       \u001b[0;32mreturn\u001b[0m \u001b[0mfn\u001b[0m\u001b[0;34m(\u001b[0m\u001b[0;34m*\u001b[0m\u001b[0margs\u001b[0m\u001b[0;34m,\u001b[0m \u001b[0;34m**\u001b[0m\u001b[0mkwargs\u001b[0m\u001b[0;34m)\u001b[0m\u001b[0;34m\u001b[0m\u001b[0;34m\u001b[0m\u001b[0m\n\u001b[0m\u001b[1;32m     65\u001b[0m     \u001b[0;32mexcept\u001b[0m \u001b[0mException\u001b[0m \u001b[0;32mas\u001b[0m \u001b[0me\u001b[0m\u001b[0;34m:\u001b[0m  \u001b[0;31m# pylint: disable=broad-except\u001b[0m\u001b[0;34m\u001b[0m\u001b[0;34m\u001b[0m\u001b[0m\n\u001b[1;32m     66\u001b[0m       \u001b[0mfiltered_tb\u001b[0m \u001b[0;34m=\u001b[0m \u001b[0m_process_traceback_frames\u001b[0m\u001b[0;34m(\u001b[0m\u001b[0me\u001b[0m\u001b[0;34m.\u001b[0m\u001b[0m__traceback__\u001b[0m\u001b[0;34m)\u001b[0m\u001b[0;34m\u001b[0m\u001b[0;34m\u001b[0m\u001b[0m\n",
      "\u001b[0;32m/opt/homebrew/Caskroom/miniforge/base/envs/tf2/lib/python3.8/site-packages/keras/engine/training.py\u001b[0m in \u001b[0;36mfit\u001b[0;34m(self, x, y, batch_size, epochs, verbose, callbacks, validation_split, validation_data, shuffle, class_weight, sample_weight, initial_epoch, steps_per_epoch, validation_steps, validation_batch_size, validation_freq, max_queue_size, workers, use_multiprocessing)\u001b[0m\n\u001b[1;32m   1214\u001b[0m                 _r=1):\n\u001b[1;32m   1215\u001b[0m               \u001b[0mcallbacks\u001b[0m\u001b[0;34m.\u001b[0m\u001b[0mon_train_batch_begin\u001b[0m\u001b[0;34m(\u001b[0m\u001b[0mstep\u001b[0m\u001b[0;34m)\u001b[0m\u001b[0;34m\u001b[0m\u001b[0;34m\u001b[0m\u001b[0m\n\u001b[0;32m-> 1216\u001b[0;31m               \u001b[0mtmp_logs\u001b[0m \u001b[0;34m=\u001b[0m \u001b[0mself\u001b[0m\u001b[0;34m.\u001b[0m\u001b[0mtrain_function\u001b[0m\u001b[0;34m(\u001b[0m\u001b[0miterator\u001b[0m\u001b[0;34m)\u001b[0m\u001b[0;34m\u001b[0m\u001b[0;34m\u001b[0m\u001b[0m\n\u001b[0m\u001b[1;32m   1217\u001b[0m               \u001b[0;32mif\u001b[0m \u001b[0mdata_handler\u001b[0m\u001b[0;34m.\u001b[0m\u001b[0mshould_sync\u001b[0m\u001b[0;34m:\u001b[0m\u001b[0;34m\u001b[0m\u001b[0;34m\u001b[0m\u001b[0m\n\u001b[1;32m   1218\u001b[0m                 \u001b[0mcontext\u001b[0m\u001b[0;34m.\u001b[0m\u001b[0masync_wait\u001b[0m\u001b[0;34m(\u001b[0m\u001b[0;34m)\u001b[0m\u001b[0;34m\u001b[0m\u001b[0;34m\u001b[0m\u001b[0m\n",
      "\u001b[0;32m/opt/homebrew/Caskroom/miniforge/base/envs/tf2/lib/python3.8/site-packages/tensorflow/python/util/traceback_utils.py\u001b[0m in \u001b[0;36merror_handler\u001b[0;34m(*args, **kwargs)\u001b[0m\n\u001b[1;32m    148\u001b[0m     \u001b[0mfiltered_tb\u001b[0m \u001b[0;34m=\u001b[0m \u001b[0;32mNone\u001b[0m\u001b[0;34m\u001b[0m\u001b[0;34m\u001b[0m\u001b[0m\n\u001b[1;32m    149\u001b[0m     \u001b[0;32mtry\u001b[0m\u001b[0;34m:\u001b[0m\u001b[0;34m\u001b[0m\u001b[0;34m\u001b[0m\u001b[0m\n\u001b[0;32m--> 150\u001b[0;31m       \u001b[0;32mreturn\u001b[0m \u001b[0mfn\u001b[0m\u001b[0;34m(\u001b[0m\u001b[0;34m*\u001b[0m\u001b[0margs\u001b[0m\u001b[0;34m,\u001b[0m \u001b[0;34m**\u001b[0m\u001b[0mkwargs\u001b[0m\u001b[0;34m)\u001b[0m\u001b[0;34m\u001b[0m\u001b[0;34m\u001b[0m\u001b[0m\n\u001b[0m\u001b[1;32m    151\u001b[0m     \u001b[0;32mexcept\u001b[0m \u001b[0mException\u001b[0m \u001b[0;32mas\u001b[0m \u001b[0me\u001b[0m\u001b[0;34m:\u001b[0m\u001b[0;34m\u001b[0m\u001b[0;34m\u001b[0m\u001b[0m\n\u001b[1;32m    152\u001b[0m       \u001b[0mfiltered_tb\u001b[0m \u001b[0;34m=\u001b[0m \u001b[0m_process_traceback_frames\u001b[0m\u001b[0;34m(\u001b[0m\u001b[0me\u001b[0m\u001b[0;34m.\u001b[0m\u001b[0m__traceback__\u001b[0m\u001b[0;34m)\u001b[0m\u001b[0;34m\u001b[0m\u001b[0;34m\u001b[0m\u001b[0m\n",
      "\u001b[0;32m/opt/homebrew/Caskroom/miniforge/base/envs/tf2/lib/python3.8/site-packages/tensorflow/python/eager/def_function.py\u001b[0m in \u001b[0;36m__call__\u001b[0;34m(self, *args, **kwds)\u001b[0m\n\u001b[1;32m    908\u001b[0m \u001b[0;34m\u001b[0m\u001b[0m\n\u001b[1;32m    909\u001b[0m       \u001b[0;32mwith\u001b[0m \u001b[0mOptionalXlaContext\u001b[0m\u001b[0;34m(\u001b[0m\u001b[0mself\u001b[0m\u001b[0;34m.\u001b[0m\u001b[0m_jit_compile\u001b[0m\u001b[0;34m)\u001b[0m\u001b[0;34m:\u001b[0m\u001b[0;34m\u001b[0m\u001b[0;34m\u001b[0m\u001b[0m\n\u001b[0;32m--> 910\u001b[0;31m         \u001b[0mresult\u001b[0m \u001b[0;34m=\u001b[0m \u001b[0mself\u001b[0m\u001b[0;34m.\u001b[0m\u001b[0m_call\u001b[0m\u001b[0;34m(\u001b[0m\u001b[0;34m*\u001b[0m\u001b[0margs\u001b[0m\u001b[0;34m,\u001b[0m \u001b[0;34m**\u001b[0m\u001b[0mkwds\u001b[0m\u001b[0;34m)\u001b[0m\u001b[0;34m\u001b[0m\u001b[0;34m\u001b[0m\u001b[0m\n\u001b[0m\u001b[1;32m    911\u001b[0m \u001b[0;34m\u001b[0m\u001b[0m\n\u001b[1;32m    912\u001b[0m       \u001b[0mnew_tracing_count\u001b[0m \u001b[0;34m=\u001b[0m \u001b[0mself\u001b[0m\u001b[0;34m.\u001b[0m\u001b[0mexperimental_get_tracing_count\u001b[0m\u001b[0;34m(\u001b[0m\u001b[0;34m)\u001b[0m\u001b[0;34m\u001b[0m\u001b[0;34m\u001b[0m\u001b[0m\n",
      "\u001b[0;32m/opt/homebrew/Caskroom/miniforge/base/envs/tf2/lib/python3.8/site-packages/tensorflow/python/eager/def_function.py\u001b[0m in \u001b[0;36m_call\u001b[0;34m(self, *args, **kwds)\u001b[0m\n\u001b[1;32m    940\u001b[0m       \u001b[0;31m# In this case we have created variables on the first call, so we run the\u001b[0m\u001b[0;34m\u001b[0m\u001b[0;34m\u001b[0m\u001b[0;34m\u001b[0m\u001b[0m\n\u001b[1;32m    941\u001b[0m       \u001b[0;31m# defunned version which is guaranteed to never create variables.\u001b[0m\u001b[0;34m\u001b[0m\u001b[0;34m\u001b[0m\u001b[0;34m\u001b[0m\u001b[0m\n\u001b[0;32m--> 942\u001b[0;31m       \u001b[0;32mreturn\u001b[0m \u001b[0mself\u001b[0m\u001b[0;34m.\u001b[0m\u001b[0m_stateless_fn\u001b[0m\u001b[0;34m(\u001b[0m\u001b[0;34m*\u001b[0m\u001b[0margs\u001b[0m\u001b[0;34m,\u001b[0m \u001b[0;34m**\u001b[0m\u001b[0mkwds\u001b[0m\u001b[0;34m)\u001b[0m  \u001b[0;31m# pylint: disable=not-callable\u001b[0m\u001b[0;34m\u001b[0m\u001b[0;34m\u001b[0m\u001b[0m\n\u001b[0m\u001b[1;32m    943\u001b[0m     \u001b[0;32melif\u001b[0m \u001b[0mself\u001b[0m\u001b[0;34m.\u001b[0m\u001b[0m_stateful_fn\u001b[0m \u001b[0;32mis\u001b[0m \u001b[0;32mnot\u001b[0m \u001b[0;32mNone\u001b[0m\u001b[0;34m:\u001b[0m\u001b[0;34m\u001b[0m\u001b[0;34m\u001b[0m\u001b[0m\n\u001b[1;32m    944\u001b[0m       \u001b[0;31m# Release the lock early so that multiple threads can perform the call\u001b[0m\u001b[0;34m\u001b[0m\u001b[0;34m\u001b[0m\u001b[0;34m\u001b[0m\u001b[0m\n",
      "\u001b[0;32m/opt/homebrew/Caskroom/miniforge/base/envs/tf2/lib/python3.8/site-packages/tensorflow/python/eager/function.py\u001b[0m in \u001b[0;36m__call__\u001b[0;34m(self, *args, **kwargs)\u001b[0m\n\u001b[1;32m   3128\u001b[0m       (graph_function,\n\u001b[1;32m   3129\u001b[0m        filtered_flat_args) = self._maybe_define_function(args, kwargs)\n\u001b[0;32m-> 3130\u001b[0;31m     return graph_function._call_flat(\n\u001b[0m\u001b[1;32m   3131\u001b[0m         filtered_flat_args, captured_inputs=graph_function.captured_inputs)  # pylint: disable=protected-access\n\u001b[1;32m   3132\u001b[0m \u001b[0;34m\u001b[0m\u001b[0m\n",
      "\u001b[0;32m/opt/homebrew/Caskroom/miniforge/base/envs/tf2/lib/python3.8/site-packages/tensorflow/python/eager/function.py\u001b[0m in \u001b[0;36m_call_flat\u001b[0;34m(self, args, captured_inputs, cancellation_manager)\u001b[0m\n\u001b[1;32m   1957\u001b[0m         and executing_eagerly):\n\u001b[1;32m   1958\u001b[0m       \u001b[0;31m# No tape is watching; skip to running the function.\u001b[0m\u001b[0;34m\u001b[0m\u001b[0;34m\u001b[0m\u001b[0;34m\u001b[0m\u001b[0m\n\u001b[0;32m-> 1959\u001b[0;31m       return self._build_call_outputs(self._inference_function.call(\n\u001b[0m\u001b[1;32m   1960\u001b[0m           ctx, args, cancellation_manager=cancellation_manager))\n\u001b[1;32m   1961\u001b[0m     forward_backward = self._select_forward_and_backward_functions(\n",
      "\u001b[0;32m/opt/homebrew/Caskroom/miniforge/base/envs/tf2/lib/python3.8/site-packages/tensorflow/python/eager/function.py\u001b[0m in \u001b[0;36mcall\u001b[0;34m(self, ctx, args, cancellation_manager)\u001b[0m\n\u001b[1;32m    596\u001b[0m       \u001b[0;32mwith\u001b[0m \u001b[0m_InterpolateFunctionError\u001b[0m\u001b[0;34m(\u001b[0m\u001b[0mself\u001b[0m\u001b[0;34m)\u001b[0m\u001b[0;34m:\u001b[0m\u001b[0;34m\u001b[0m\u001b[0;34m\u001b[0m\u001b[0m\n\u001b[1;32m    597\u001b[0m         \u001b[0;32mif\u001b[0m \u001b[0mcancellation_manager\u001b[0m \u001b[0;32mis\u001b[0m \u001b[0;32mNone\u001b[0m\u001b[0;34m:\u001b[0m\u001b[0;34m\u001b[0m\u001b[0;34m\u001b[0m\u001b[0m\n\u001b[0;32m--> 598\u001b[0;31m           outputs = execute.execute(\n\u001b[0m\u001b[1;32m    599\u001b[0m               \u001b[0mstr\u001b[0m\u001b[0;34m(\u001b[0m\u001b[0mself\u001b[0m\u001b[0;34m.\u001b[0m\u001b[0msignature\u001b[0m\u001b[0;34m.\u001b[0m\u001b[0mname\u001b[0m\u001b[0;34m)\u001b[0m\u001b[0;34m,\u001b[0m\u001b[0;34m\u001b[0m\u001b[0;34m\u001b[0m\u001b[0m\n\u001b[1;32m    600\u001b[0m               \u001b[0mnum_outputs\u001b[0m\u001b[0;34m=\u001b[0m\u001b[0mself\u001b[0m\u001b[0;34m.\u001b[0m\u001b[0m_num_outputs\u001b[0m\u001b[0;34m,\u001b[0m\u001b[0;34m\u001b[0m\u001b[0;34m\u001b[0m\u001b[0m\n",
      "\u001b[0;32m/opt/homebrew/Caskroom/miniforge/base/envs/tf2/lib/python3.8/site-packages/tensorflow/python/eager/execute.py\u001b[0m in \u001b[0;36mquick_execute\u001b[0;34m(op_name, num_outputs, inputs, attrs, ctx, name)\u001b[0m\n\u001b[1;32m     56\u001b[0m   \u001b[0;32mtry\u001b[0m\u001b[0;34m:\u001b[0m\u001b[0;34m\u001b[0m\u001b[0;34m\u001b[0m\u001b[0m\n\u001b[1;32m     57\u001b[0m     \u001b[0mctx\u001b[0m\u001b[0;34m.\u001b[0m\u001b[0mensure_initialized\u001b[0m\u001b[0;34m(\u001b[0m\u001b[0;34m)\u001b[0m\u001b[0;34m\u001b[0m\u001b[0;34m\u001b[0m\u001b[0m\n\u001b[0;32m---> 58\u001b[0;31m     tensors = pywrap_tfe.TFE_Py_Execute(ctx._handle, device_name, op_name,\n\u001b[0m\u001b[1;32m     59\u001b[0m                                         inputs, attrs, num_outputs)\n\u001b[1;32m     60\u001b[0m   \u001b[0;32mexcept\u001b[0m \u001b[0mcore\u001b[0m\u001b[0;34m.\u001b[0m\u001b[0m_NotOkStatusException\u001b[0m \u001b[0;32mas\u001b[0m \u001b[0me\u001b[0m\u001b[0;34m:\u001b[0m\u001b[0;34m\u001b[0m\u001b[0;34m\u001b[0m\u001b[0m\n",
      "\u001b[0;31mKeyboardInterrupt\u001b[0m: "
     ]
    }
   ],
   "source": [
    "import IPython\n",
    "import keras_tuner as kt\n",
    "from tensorflow import keras\n",
    "\n",
    "tf.random.set_seed(33)\n",
    "\n",
    "def model_builder(hp):\n",
    "    \n",
    "    output_size = 6\n",
    "    hp_units = hp.Int('units', min_value = 40, max_value = 96, step = 8)\n",
    "    hp_units1 = hp.Int('units1', min_value = 40, max_value = 96, step = 8)\n",
    "    hp_units2 = hp.Int('units2', min_value = 40, max_value = 96, step = 8)\n",
    "    hp_learning_rate = hp.Choice('learning_rate', values = [1e-2]) \n",
    "    \n",
    "    lstm_layer = keras.layers.LSTM(hp_units, \n",
    "                                   activation='tanh', \n",
    "                                   recurrent_activation='sigmoid')\n",
    "    \n",
    "    model = keras.models.Sequential(\n",
    "        [\n",
    "            keras.layers.Input(shape=(15,)),\n",
    "            keras.layers.Embedding(vocab_size, 64, input_length=15),\n",
    "            lstm_layer,\n",
    "            keras.layers.BatchNormalization(),\n",
    "            keras.layers.Dense(hp_units1, activation='relu'),\n",
    "            keras.layers.Dense(hp_units2, activation='relu'),\n",
    "            keras.layers.Dense(output_size, activation='softmax'),\n",
    "        ]\n",
    "    )\n",
    "    \n",
    "    model.compile(loss='categorical_crossentropy',\n",
    "                  optimizer=tf.keras.optimizers.Adam(learning_rate=hp_learning_rate),\n",
    "                  metrics=['accuracy'])\n",
    "    return model\n",
    "\n",
    "tuner = kt.Hyperband(model_builder,\n",
    "                     objective = 'val_accuracy', \n",
    "                     max_epochs = 100,\n",
    "                     factor = 3,\n",
    "                     directory = 'my_dir',\n",
    "                     project_name = 'kt9_LSTM_result')\n",
    "\n",
    "class ClearTrainingOutput(tf.keras.callbacks.Callback):\n",
    "    def on_train_end(*args, **kwargs):\n",
    "        IPython.display.clear_output(wait = True)\n",
    "\n",
    "early_stop = tf.keras.callbacks.EarlyStopping(monitor='val_accuracy', \n",
    "                                           min_delta=0, \n",
    "                                           patience=5, \n",
    "                                           verbose=1)\n",
    "\n",
    "checkpoint_filepath = \"best_a.hdf5\"\n",
    "save_best = tf.keras.callbacks.ModelCheckpoint(\n",
    "    filepath=checkpoint_filepath, \n",
    "    monitor='val_accuracy', \n",
    "    verbose=1, \n",
    "    save_best_only=True,\n",
    "    save_weights_only=True, \n",
    "    mode='auto', \n",
    "    save_freq='epoch', \n",
    "    options=None)\n",
    "\n",
    "tuner.search(X_train, y_train_oh, \n",
    "             epochs=100, \n",
    "             batch_size=800, \n",
    "             callbacks=[ClearTrainingOutput(), early_stop, save_best], \n",
    "             validation_split=0.15)"
   ]
  },
  {
   "cell_type": "code",
   "execution_count": 100,
   "id": "3a36b7b8-cf33-4c1d-870a-1d1fb75153f2",
   "metadata": {},
   "outputs": [
    {
     "data": {
      "text/plain": [
       "<keras_tuner.engine.hyperparameters.HyperParameters at 0x2e0797370>"
      ]
     },
     "execution_count": 100,
     "metadata": {},
     "output_type": "execute_result"
    }
   ],
   "source": [
    "best_hps = tuner.get_best_hyperparameters(num_trials = 1)[0]\n",
    "best_hps"
   ]
  },
  {
   "cell_type": "code",
   "execution_count": 101,
   "id": "b8bd97aa-a4f7-41fa-8bdd-3f8dec9c5d59",
   "metadata": {},
   "outputs": [
    {
     "name": "stdout",
     "output_type": "stream",
     "text": [
      "Model: \"sequential_1\"\n",
      "_________________________________________________________________\n",
      " Layer (type)                Output Shape              Param #   \n",
      "=================================================================\n",
      " embedding_1 (Embedding)     (None, 15, 64)            4115456   \n",
      "                                                                 \n",
      " lstm_1 (LSTM)               (None, 48)                21696     \n",
      "                                                                 \n",
      " batch_normalization_1 (Batc  (None, 48)               192       \n",
      " hNormalization)                                                 \n",
      "                                                                 \n",
      " dense_3 (Dense)             (None, 72)                3528      \n",
      "                                                                 \n",
      " dense_4 (Dense)             (None, 40)                2920      \n",
      "                                                                 \n",
      " dense_5 (Dense)             (None, 6)                 246       \n",
      "                                                                 \n",
      "=================================================================\n",
      "Total params: 4,144,038\n",
      "Trainable params: 4,143,942\n",
      "Non-trainable params: 96\n",
      "_________________________________________________________________\n"
     ]
    }
   ],
   "source": [
    "model = tuner.hypermodel.build(best_hps)\n",
    "\n",
    "model.summary()"
   ]
  },
  {
   "cell_type": "code",
   "execution_count": 102,
   "id": "55a6e2cc-c521-4249-bb96-ee4fb3da7a51",
   "metadata": {
    "scrolled": true,
    "tags": []
   },
   "outputs": [
    {
     "name": "stdout",
     "output_type": "stream",
     "text": [
      "Epoch 1/100\n",
      "90/91 [============================>.] - ETA: 0s - loss: 1.3852 - accuracy: 0.4659\n",
      "Epoch 00001: val_accuracy improved from -inf to 0.40654, saving model to best_a.hdf5\n",
      "91/91 [==============================] - 5s 53ms/step - loss: 1.3854 - accuracy: 0.4659 - val_loss: 1.6945 - val_accuracy: 0.4065\n",
      "Epoch 2/100\n",
      "91/91 [==============================] - ETA: 0s - loss: 1.1645 - accuracy: 0.5666\n",
      "Epoch 00002: val_accuracy improved from 0.40654 to 0.47590, saving model to best_a.hdf5\n",
      "91/91 [==============================] - 5s 54ms/step - loss: 1.1645 - accuracy: 0.5666 - val_loss: 1.5543 - val_accuracy: 0.4759\n",
      "Epoch 3/100\n",
      "91/91 [==============================] - ETA: 0s - loss: 1.0900 - accuracy: 0.5959\n",
      "Epoch 00003: val_accuracy improved from 0.47590 to 0.50220, saving model to best_a.hdf5\n",
      "91/91 [==============================] - 5s 54ms/step - loss: 1.0900 - accuracy: 0.5959 - val_loss: 1.4693 - val_accuracy: 0.5022\n",
      "Epoch 4/100\n",
      "90/91 [============================>.] - ETA: 0s - loss: 1.0254 - accuracy: 0.6202\n",
      "Epoch 00004: val_accuracy did not improve from 0.50220\n",
      "91/91 [==============================] - 5s 54ms/step - loss: 1.0255 - accuracy: 0.6201 - val_loss: 1.3785 - val_accuracy: 0.4957\n",
      "Epoch 5/100\n",
      "90/91 [============================>.] - ETA: 0s - loss: 0.9623 - accuracy: 0.6411\n",
      "Epoch 00005: val_accuracy improved from 0.50220 to 0.50828, saving model to best_a.hdf5\n",
      "91/91 [==============================] - 5s 57ms/step - loss: 0.9620 - accuracy: 0.6412 - val_loss: 1.3220 - val_accuracy: 0.5083\n",
      "Epoch 6/100\n",
      "90/91 [============================>.] - ETA: 0s - loss: 0.9002 - accuracy: 0.6651\n",
      "Epoch 00006: val_accuracy did not improve from 0.50828\n",
      "91/91 [==============================] - 5s 57ms/step - loss: 0.9005 - accuracy: 0.6650 - val_loss: 1.3836 - val_accuracy: 0.5065\n",
      "Epoch 7/100\n",
      "90/91 [============================>.] - ETA: 0s - loss: 0.8396 - accuracy: 0.6826\n",
      "Epoch 00007: val_accuracy did not improve from 0.50828\n",
      "91/91 [==============================] - 5s 58ms/step - loss: 0.8399 - accuracy: 0.6826 - val_loss: 1.5317 - val_accuracy: 0.5029\n",
      "Epoch 8/100\n",
      "90/91 [============================>.] - ETA: 0s - loss: 0.7824 - accuracy: 0.7051\n",
      "Epoch 00008: val_accuracy did not improve from 0.50828\n",
      "91/91 [==============================] - 5s 58ms/step - loss: 0.7825 - accuracy: 0.7051 - val_loss: 1.6540 - val_accuracy: 0.4999\n",
      "Epoch 9/100\n",
      "90/91 [============================>.] - ETA: 0s - loss: 0.7287 - accuracy: 0.7233\n",
      "Epoch 00009: val_accuracy did not improve from 0.50828\n",
      "91/91 [==============================] - 5s 56ms/step - loss: 0.7290 - accuracy: 0.7232 - val_loss: 1.8587 - val_accuracy: 0.4985\n",
      "Epoch 10/100\n",
      "90/91 [============================>.] - ETA: 0s - loss: 0.6743 - accuracy: 0.7416\n",
      "Epoch 00010: val_accuracy did not improve from 0.50828\n",
      "91/91 [==============================] - 5s 54ms/step - loss: 0.6746 - accuracy: 0.7415 - val_loss: 1.9989 - val_accuracy: 0.4960\n",
      "Epoch 00010: early stopping\n"
     ]
    },
    {
     "data": {
      "text/plain": [
       "<keras.callbacks.History at 0x29d126130>"
      ]
     },
     "execution_count": 102,
     "metadata": {},
     "output_type": "execute_result"
    }
   ],
   "source": [
    "model.fit(X_train, y_train_oh, \n",
    "          epochs=100,\n",
    "          batch_size=600,\n",
    "          callbacks=[early_stop, save_best],\n",
    "          validation_split=0.15)"
   ]
  },
  {
   "cell_type": "code",
   "execution_count": 103,
   "id": "f52a27fd-3b78-4388-bcae-893554dd9c7a",
   "metadata": {},
   "outputs": [],
   "source": [
    "# X_test_enc = token.texts_to_sequences(X_test)\n",
    "# X_test = sequence.pad_sequences(X_test_enc, maxlen=15, padding='post')"
   ]
  },
  {
   "cell_type": "code",
   "execution_count": 104,
   "id": "f0c766fe-ac8f-4355-bd58-524496a9b78e",
   "metadata": {},
   "outputs": [
    {
     "name": "stdout",
     "output_type": "stream",
     "text": [
      "351/351 [==============================] - 0s 926us/step - loss: 1.3190 - accuracy: 0.5071\n"
     ]
    }
   ],
   "source": [
    "model.load_weights(checkpoint_filepath)\n",
    "test_loss, test_acc = model.evaluate(X_test,  y_test_oh, verbose=1)"
   ]
  },
  {
   "cell_type": "code",
   "execution_count": 105,
   "id": "2bf6fece-3a21-4e13-a2d2-f8766478e0cb",
   "metadata": {},
   "outputs": [
    {
     "name": "stdout",
     "output_type": "stream",
     "text": [
      "              precision    recall  f1-score   support\n",
      "\n",
      "           0       0.51      0.82      0.63      1867\n",
      "           1       0.64      0.42      0.51      1858\n",
      "           2       0.48      0.50      0.49      1906\n",
      "           3       0.55      0.34      0.42      1696\n",
      "           4       0.47      0.44      0.46      2026\n",
      "           5       0.46      0.51      0.48      1876\n",
      "\n",
      "    accuracy                           0.51     11229\n",
      "   macro avg       0.52      0.51      0.50     11229\n",
      "weighted avg       0.52      0.51      0.50     11229\n",
      "\n"
     ]
    }
   ],
   "source": [
    "from sklearn.metrics import classification_report\n",
    "\n",
    "y_pred = np.argmax(model.predict(X_test), axis=1)\n",
    "print(classification_report(y_test, y_pred))"
   ]
  },
  {
   "cell_type": "code",
   "execution_count": null,
   "id": "c63f6194-26e5-416b-babe-f85db1c0fa55",
   "metadata": {},
   "outputs": [],
   "source": []
  }
 ],
 "metadata": {
  "kernelspec": {
   "display_name": "Python 3 (ipykernel)",
   "language": "python",
   "name": "python3"
  },
  "language_info": {
   "codemirror_mode": {
    "name": "ipython",
    "version": 3
   },
   "file_extension": ".py",
   "mimetype": "text/x-python",
   "name": "python",
   "nbconvert_exporter": "python",
   "pygments_lexer": "ipython3",
   "version": "3.8.12"
  }
 },
 "nbformat": 4,
 "nbformat_minor": 5
}
